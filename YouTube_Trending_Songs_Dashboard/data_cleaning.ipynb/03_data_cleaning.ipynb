{
 "cells": [
  {
   "cell_type": "code",
   "execution_count": 2,
   "id": "c7c78a42-4fe2-40ab-b40e-e4ea76b08156",
   "metadata": {},
   "outputs": [],
   "source": [
    "import pandas as pd\n",
    "import numpy as np\n",
    "\n",
    "df = pd.read_csv('C:/Users/Administrator/OneDrive/Documents/YouTube_Trending_Songs_Dashboard/data/youtube-top-100-songs-2025.csv')\n",
    "df.columns = df.columns.str.strip().str.lower().str.replace(' ', '_')\n"
   ]
  },
  {
   "cell_type": "code",
   "execution_count": 3,
   "id": "608dd5d1-a04a-4b0f-90ac-4403d6344120",
   "metadata": {},
   "outputs": [
    {
     "name": "stdout",
     "output_type": "stream",
     "text": [
      "Rows after removing duplicates: (100, 13)\n"
     ]
    }
   ],
   "source": [
    "df = df.drop_duplicates()\n",
    "print(\"Rows after removing duplicates:\", df.shape)\n"
   ]
  },
  {
   "cell_type": "code",
   "execution_count": 4,
   "id": "f5dea2f3-e832-4501-988b-18e5244229df",
   "metadata": {},
   "outputs": [],
   "source": [
    "# Fill missing numeric values\n",
    "for col in ['view_count', 'duration', 'channel_follower_count']:\n",
    "    df[col] = pd.to_numeric(df[col], errors='coerce').fillna(0)\n",
    "\n",
    "# Fill missing strings\n",
    "text_cols = ['title', 'fulltitle', 'description', 'categories', 'tags',\n",
    "             'live_status', 'thumbnail', 'channel', 'channel_url']\n",
    "df[text_cols] = df[text_cols].fillna('Unknown')\n"
   ]
  },
  {
   "cell_type": "code",
   "execution_count": 5,
   "id": "580b07ad-6a6d-4d0b-bd0f-73eeec65691c",
   "metadata": {},
   "outputs": [],
   "source": [
    "# Helper function to convert duration_string (like '4:05' or '01:20:15') into seconds\n",
    "def convert_duration(x):\n",
    "    try:\n",
    "        parts = x.split(':')\n",
    "        parts = [int(p) for p in parts]\n",
    "        if len(parts) == 2:       # MM:SS\n",
    "            return parts[0] * 60 + parts[1]\n",
    "        elif len(parts) == 3:     # HH:MM:SS\n",
    "            return parts[0] * 3600 + parts[1] * 60 + parts[2]\n",
    "        else:\n",
    "            return np.nan\n",
    "    except:\n",
    "        return np.nan\n",
    "\n",
    "df['duration_fixed'] = df['duration_string'].apply(convert_duration)\n",
    "df['duration'] = df['duration'].replace(0, np.nan)  # if 0 or missing, replace\n",
    "df['duration'] = df['duration'].fillna(df['duration_fixed']).fillna(0)\n"
   ]
  },
  {
   "cell_type": "code",
   "execution_count": 6,
   "id": "02339fa2-7c8a-4e67-beec-cfa3559ca9e3",
   "metadata": {},
   "outputs": [],
   "source": [
    "df['duration_min'] = df['duration'] / 60\n",
    "df['length_category'] = pd.cut(df['duration_min'],\n",
    "                               bins=[0,2,4,6,10,1000],\n",
    "                               labels=['<2 min','2–4 min','4–6 min','6–10 min','>10 min'])\n",
    "\n",
    "df['tag_count'] = df['tags'].apply(lambda x: len(x.split('|')) if x!='Unknown' else 0)\n",
    "\n",
    "df['popularity_score'] = df['view_count'] / (df['channel_follower_count'] + 1)\n"
   ]
  },
  {
   "cell_type": "code",
   "execution_count": 7,
   "id": "94ec4421-d8dc-4f32-b397-83cc0862e617",
   "metadata": {},
   "outputs": [
    {
     "name": "stdout",
     "output_type": "stream",
     "text": [
      "✅ Cleaned file saved as: youtube_trending_songs_clean.csv\n"
     ]
    }
   ],
   "source": [
    "df.to_csv('../data/youtube_trending_songs_clean.csv', index=False)\n",
    "print(\"✅ Cleaned file saved as: youtube_trending_songs_clean.csv\")\n"
   ]
  },
  {
   "cell_type": "code",
   "execution_count": null,
   "id": "c61272cb-5ef6-408a-8959-a1edd451fcdc",
   "metadata": {},
   "outputs": [],
   "source": []
  }
 ],
 "metadata": {
  "kernelspec": {
   "display_name": "Python [conda env:base] *",
   "language": "python",
   "name": "conda-base-py"
  },
  "language_info": {
   "codemirror_mode": {
    "name": "ipython",
    "version": 3
   },
   "file_extension": ".py",
   "mimetype": "text/x-python",
   "name": "python",
   "nbconvert_exporter": "python",
   "pygments_lexer": "ipython3",
   "version": "3.13.5"
  }
 },
 "nbformat": 4,
 "nbformat_minor": 5
}
