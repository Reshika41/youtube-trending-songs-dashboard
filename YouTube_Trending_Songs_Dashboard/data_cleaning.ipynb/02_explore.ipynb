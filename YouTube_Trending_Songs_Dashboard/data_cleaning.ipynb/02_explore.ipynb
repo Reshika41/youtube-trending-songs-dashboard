{
 "cells": [
  {
   "cell_type": "code",
   "execution_count": 1,
   "id": "4b67cff8-1226-41f7-bdaf-6527f1b48a8a",
   "metadata": {},
   "outputs": [
    {
     "name": "stdout",
     "output_type": "stream",
     "text": [
      "Columns: ['title', 'fulltitle', 'description', 'view_count', 'categories', 'tags', 'duration', 'duration_string', 'live_status', 'thumbnail', 'channel', 'channel_url', 'channel_follower_count']\n",
      "Shape (rows, cols): (100, 13)\n"
     ]
    },
    {
     "data": {
      "text/html": [
       "<div>\n",
       "<style scoped>\n",
       "    .dataframe tbody tr th:only-of-type {\n",
       "        vertical-align: middle;\n",
       "    }\n",
       "\n",
       "    .dataframe tbody tr th {\n",
       "        vertical-align: top;\n",
       "    }\n",
       "\n",
       "    .dataframe thead th {\n",
       "        text-align: right;\n",
       "    }\n",
       "</style>\n",
       "<table border=\"1\" class=\"dataframe\">\n",
       "  <thead>\n",
       "    <tr style=\"text-align: right;\">\n",
       "      <th></th>\n",
       "      <th>title</th>\n",
       "      <th>fulltitle</th>\n",
       "      <th>description</th>\n",
       "      <th>view_count</th>\n",
       "      <th>categories</th>\n",
       "      <th>tags</th>\n",
       "      <th>duration</th>\n",
       "      <th>duration_string</th>\n",
       "      <th>live_status</th>\n",
       "      <th>thumbnail</th>\n",
       "      <th>channel</th>\n",
       "      <th>channel_url</th>\n",
       "      <th>channel_follower_count</th>\n",
       "    </tr>\n",
       "  </thead>\n",
       "  <tbody>\n",
       "    <tr>\n",
       "      <th>0</th>\n",
       "      <td>ROSÉ &amp; Bruno Mars - APT. (Official Music Video)</td>\n",
       "      <td>ROSÉ &amp; Bruno Mars - APT. (Official Music Video)</td>\n",
       "      <td>ROSÉ &amp; Bruno Mars - APT.\\nDownload/stream: ht...</td>\n",
       "      <td>2009014557</td>\n",
       "      <td>Music</td>\n",
       "      <td>YG Entertainment;YG;와이지;K-pop;BLACKPINK;블랙핑크;블...</td>\n",
       "      <td>173</td>\n",
       "      <td>2:53</td>\n",
       "      <td>False</td>\n",
       "      <td>https://i.ytimg.com/vi_webp/ekr2nIex040/maxres...</td>\n",
       "      <td>ROSÉ</td>\n",
       "      <td>https://www.youtube.com/channel/UCBo1hnzxV9rz3...</td>\n",
       "      <td>19200000</td>\n",
       "    </tr>\n",
       "    <tr>\n",
       "      <th>1</th>\n",
       "      <td>Lady Gaga, Bruno Mars - Die With A Smile (Offi...</td>\n",
       "      <td>Lady Gaga, Bruno Mars - Die With A Smile (Offi...</td>\n",
       "      <td>MAYHEM OUT NOW\\nhttp://ladygaga.com \\n \\nListe...</td>\n",
       "      <td>1324833300</td>\n",
       "      <td>Music</td>\n",
       "      <td>Lady Gaga;Bruno Mars;Interscope;Pop</td>\n",
       "      <td>252</td>\n",
       "      <td>4:12</td>\n",
       "      <td>False</td>\n",
       "      <td>https://i.ytimg.com/vi/kPa7bsKwL-c/maxresdefau...</td>\n",
       "      <td>Lady Gaga</td>\n",
       "      <td>https://www.youtube.com/channel/UC07Kxew-cMIay...</td>\n",
       "      <td>29600000</td>\n",
       "    </tr>\n",
       "    <tr>\n",
       "      <th>2</th>\n",
       "      <td>Reneé Rapp - Leave Me Alone (Official Music Vi...</td>\n",
       "      <td>Reneé Rapp - Leave Me Alone (Official Music Vi...</td>\n",
       "      <td>Listen to “BITE ME”, the new album from Reneé ...</td>\n",
       "      <td>2536628</td>\n",
       "      <td>Music</td>\n",
       "      <td>Reneé Rapp;Interscope Records;Pop</td>\n",
       "      <td>160</td>\n",
       "      <td>2:40</td>\n",
       "      <td>False</td>\n",
       "      <td>https://i.ytimg.com/vi/tiPWzFLiz4A/maxresdefau...</td>\n",
       "      <td>Reneé Rapp</td>\n",
       "      <td>https://www.youtube.com/channel/UCZy4ki_L4bzw9...</td>\n",
       "      <td>408000</td>\n",
       "    </tr>\n",
       "  </tbody>\n",
       "</table>\n",
       "</div>"
      ],
      "text/plain": [
       "                                               title  \\\n",
       "0   ROSÉ & Bruno Mars - APT. (Official Music Video)   \n",
       "1  Lady Gaga, Bruno Mars - Die With A Smile (Offi...   \n",
       "2  Reneé Rapp - Leave Me Alone (Official Music Vi...   \n",
       "\n",
       "                                           fulltitle  \\\n",
       "0   ROSÉ & Bruno Mars - APT. (Official Music Video)   \n",
       "1  Lady Gaga, Bruno Mars - Die With A Smile (Offi...   \n",
       "2  Reneé Rapp - Leave Me Alone (Official Music Vi...   \n",
       "\n",
       "                                         description  view_count categories  \\\n",
       "0  ROSÉ & Bruno Mars - APT.\\nDownload/stream: ht...  2009014557      Music   \n",
       "1  MAYHEM OUT NOW\\nhttp://ladygaga.com \\n \\nListe...  1324833300      Music   \n",
       "2  Listen to “BITE ME”, the new album from Reneé ...     2536628      Music   \n",
       "\n",
       "                                                tags  duration  \\\n",
       "0  YG Entertainment;YG;와이지;K-pop;BLACKPINK;블랙핑크;블...       173   \n",
       "1                Lady Gaga;Bruno Mars;Interscope;Pop       252   \n",
       "2                  Reneé Rapp;Interscope Records;Pop       160   \n",
       "\n",
       "  duration_string  live_status  \\\n",
       "0            2:53        False   \n",
       "1            4:12        False   \n",
       "2            2:40        False   \n",
       "\n",
       "                                           thumbnail     channel  \\\n",
       "0  https://i.ytimg.com/vi_webp/ekr2nIex040/maxres...        ROSÉ   \n",
       "1  https://i.ytimg.com/vi/kPa7bsKwL-c/maxresdefau...   Lady Gaga   \n",
       "2  https://i.ytimg.com/vi/tiPWzFLiz4A/maxresdefau...  Reneé Rapp   \n",
       "\n",
       "                                         channel_url  channel_follower_count  \n",
       "0  https://www.youtube.com/channel/UCBo1hnzxV9rz3...                19200000  \n",
       "1  https://www.youtube.com/channel/UC07Kxew-cMIay...                29600000  \n",
       "2  https://www.youtube.com/channel/UCZy4ki_L4bzw9...                  408000  "
      ]
     },
     "execution_count": 1,
     "metadata": {},
     "output_type": "execute_result"
    }
   ],
   "source": [
    "import pandas as pd\n",
    "\n",
    "# Load (adjust path if your notebook sits elsewhere)\n",
    "df = pd.read_csv('C:/Users/Administrator/OneDrive/Documents/YouTube_Trending_Songs_Dashboard/data/youtube-top-100-songs-2025.csv')\n",
    "\n",
    "# Make column names safe: lowercase, no leading/trailing spaces, spaces -> underscores\n",
    "df.columns = df.columns.str.strip().str.replace(' ', '_').str.lower()\n",
    "\n",
    "print(\"Columns:\", df.columns.tolist())\n",
    "print(\"Shape (rows, cols):\", df.shape)\n",
    "df.head(3)\n"
   ]
  },
  {
   "cell_type": "markdown",
   "id": "93e70bef-973c-4859-a5ec-c105f52c6518",
   "metadata": {},
   "source": [
    "# C:/Users/Administrator/OneDrive/Documents/YouTube_Trending_Songs_Dashboard/data/youtube-top-100-songs-2025.csv"
   ]
  },
  {
   "cell_type": "code",
   "execution_count": 2,
   "id": "ea75729f-755e-48e1-8227-b2f1070b4016",
   "metadata": {},
   "outputs": [
    {
     "name": "stdout",
     "output_type": "stream",
     "text": [
      "Missing % by column:\n",
      " tags                      15.0\n",
      "fulltitle                  0.0\n",
      "description                0.0\n",
      "view_count                 0.0\n",
      "title                      0.0\n",
      "categories                 0.0\n",
      "duration                   0.0\n",
      "duration_string            0.0\n",
      "live_status                0.0\n",
      "thumbnail                  0.0\n",
      "channel                    0.0\n",
      "channel_url                0.0\n",
      "channel_follower_count     0.0\n",
      "dtype: float64\n"
     ]
    },
    {
     "data": {
      "text/plain": [
       "title                     object\n",
       "fulltitle                 object\n",
       "description               object\n",
       "view_count                 int64\n",
       "categories                object\n",
       "tags                      object\n",
       "duration                   int64\n",
       "duration_string           object\n",
       "live_status                 bool\n",
       "thumbnail                 object\n",
       "channel                   object\n",
       "channel_url               object\n",
       "channel_follower_count     int64\n",
       "dtype: object"
      ]
     },
     "execution_count": 2,
     "metadata": {},
     "output_type": "execute_result"
    }
   ],
   "source": [
    "# Missing percentage per column\n",
    "missing_pct = (df.isnull().mean() * 100).round(2).sort_values(ascending=False)\n",
    "print(\"Missing % by column:\\n\", missing_pct)\n",
    "\n",
    "# Data types\n",
    "df.dtypes\n"
   ]
  },
  {
   "cell_type": "code",
   "execution_count": 3,
   "id": "30e2fc54-4f5f-4f3a-ba84-4d2f1b244932",
   "metadata": {},
   "outputs": [
    {
     "name": "stdout",
     "output_type": "stream",
     "text": [
      "Unique titles: 100\n",
      "Unique channels: 65\n",
      "Potential duplicate rows (by title/channel/view_count/duration): 0\n"
     ]
    }
   ],
   "source": [
    "print(\"Unique titles:\", df['title'].nunique())\n",
    "print(\"Unique channels:\", df['channel'].nunique())\n",
    "\n",
    "# Heuristic duplicate check using a subset of columns\n",
    "dupe_cols = ['title','channel','view_count','duration']\n",
    "potential_dupes = df.duplicated(subset=[c for c in dupe_cols if c in df.columns]).sum()\n",
    "print(\"Potential duplicate rows (by title/channel/view_count/duration):\", potential_dupes)\n"
   ]
  },
  {
   "cell_type": "code",
   "execution_count": 4,
   "id": "b2149593-4e0f-436a-b422-ddb6a6042f53",
   "metadata": {},
   "outputs": [
    {
     "data": {
      "text/html": [
       "<div>\n",
       "<style scoped>\n",
       "    .dataframe tbody tr th:only-of-type {\n",
       "        vertical-align: middle;\n",
       "    }\n",
       "\n",
       "    .dataframe tbody tr th {\n",
       "        vertical-align: top;\n",
       "    }\n",
       "\n",
       "    .dataframe thead th {\n",
       "        text-align: right;\n",
       "    }\n",
       "</style>\n",
       "<table border=\"1\" class=\"dataframe\">\n",
       "  <thead>\n",
       "    <tr style=\"text-align: right;\">\n",
       "      <th></th>\n",
       "      <th>count</th>\n",
       "      <th>mean</th>\n",
       "      <th>std</th>\n",
       "      <th>min</th>\n",
       "      <th>25%</th>\n",
       "      <th>50%</th>\n",
       "      <th>75%</th>\n",
       "      <th>max</th>\n",
       "    </tr>\n",
       "  </thead>\n",
       "  <tbody>\n",
       "    <tr>\n",
       "      <th>view_count</th>\n",
       "      <td>100.0</td>\n",
       "      <td>1.059103e+08</td>\n",
       "      <td>2.491132e+08</td>\n",
       "      <td>1161.0</td>\n",
       "      <td>18527021.0</td>\n",
       "      <td>37982240.0</td>\n",
       "      <td>1.111073e+08</td>\n",
       "      <td>2.009015e+09</td>\n",
       "    </tr>\n",
       "    <tr>\n",
       "      <th>duration</th>\n",
       "      <td>100.0</td>\n",
       "      <td>2.039000e+02</td>\n",
       "      <td>4.426059e+01</td>\n",
       "      <td>120.0</td>\n",
       "      <td>173.0</td>\n",
       "      <td>193.5</td>\n",
       "      <td>2.317500e+02</td>\n",
       "      <td>3.540000e+02</td>\n",
       "    </tr>\n",
       "    <tr>\n",
       "      <th>channel_follower_count</th>\n",
       "      <td>100.0</td>\n",
       "      <td>1.612067e+07</td>\n",
       "      <td>1.980038e+07</td>\n",
       "      <td>1.0</td>\n",
       "      <td>613250.0</td>\n",
       "      <td>6320000.0</td>\n",
       "      <td>2.760000e+07</td>\n",
       "      <td>7.620000e+07</td>\n",
       "    </tr>\n",
       "  </tbody>\n",
       "</table>\n",
       "</div>"
      ],
      "text/plain": [
       "                        count          mean           std     min         25%  \\\n",
       "view_count              100.0  1.059103e+08  2.491132e+08  1161.0  18527021.0   \n",
       "duration                100.0  2.039000e+02  4.426059e+01   120.0       173.0   \n",
       "channel_follower_count  100.0  1.612067e+07  1.980038e+07     1.0    613250.0   \n",
       "\n",
       "                               50%           75%           max  \n",
       "view_count              37982240.0  1.111073e+08  2.009015e+09  \n",
       "duration                     193.5  2.317500e+02  3.540000e+02  \n",
       "channel_follower_count   6320000.0  2.760000e+07  7.620000e+07  "
      ]
     },
     "execution_count": 4,
     "metadata": {},
     "output_type": "execute_result"
    }
   ],
   "source": [
    "num_cols = [c for c in ['view_count','duration','channel_follower_count'] if c in df.columns]\n",
    "df[num_cols].describe().T\n"
   ]
  },
  {
   "cell_type": "code",
   "execution_count": 5,
   "id": "0a73218f-a700-4256-8101-752de4f4a8e2",
   "metadata": {},
   "outputs": [
    {
     "name": "stdout",
     "output_type": "stream",
     "text": [
      "Top 10 categories:\n",
      " categories\n",
      "Music             94\n",
      "People & Blogs     6\n",
      "Name: count, dtype: int64\n",
      "\n",
      "Top 10 channels by video count:\n",
      " channel\n",
      "Sabrina Carpenter    7\n",
      "Tate McRae           4\n",
      "ROSÉ                 3\n",
      "Billie Eilish        3\n",
      "Lady Gaga            3\n",
      "JENNIE               3\n",
      "The Weeknd           3\n",
      "David Guetta         3\n",
      "Kendrick Lamar       3\n",
      "LLOUD Official       2\n",
      "Name: count, dtype: int64\n"
     ]
    }
   ],
   "source": [
    "print(\"Top 10 categories:\\n\", df['categories'].value_counts().head(10))\n",
    "print(\"\\nTop 10 channels by video count:\\n\", df['channel'].value_counts().head(10))\n"
   ]
  },
  {
   "cell_type": "code",
   "execution_count": 6,
   "id": "e1c8de1c-1eac-4d98-9c7b-8ea4b0f407bb",
   "metadata": {},
   "outputs": [
    {
     "name": "stdout",
     "output_type": "stream",
     "text": [
      "Average views per video: 105910319.07\n",
      "Share of total views captured by Top 10 channels: 72.20%\n"
     ]
    }
   ],
   "source": [
    "# Average views (overall)\n",
    "avg_views = df['view_count'].mean()\n",
    "print(\"Average views per video:\", round(avg_views, 2))\n",
    "\n",
    "# Most viewed single video\n",
    "idx = df['view_count'].idxmax()\n",
    "df.loc[[idx], ['title','channel','view_count','categories','duration','channel_follower_count']]\n",
    "\n",
    "# Views concentration: what % of total views is in top 10 channels?\n",
    "channel_views = df.groupby('channel', as_index=False)['view_count'].sum().sort_values('view_count', ascending=False)\n",
    "total_views = channel_views['view_count'].sum()\n",
    "top10_views_share = channel_views.head(10)['view_count'].sum() / total_views * 100\n",
    "print(f\"Share of total views captured by Top 10 channels: {top10_views_share:.2f}%\")\n"
   ]
  },
  {
   "cell_type": "code",
   "execution_count": 7,
   "id": "dbf1e290-1e8d-4594-af34-24b270bd5e2a",
   "metadata": {},
   "outputs": [
    {
     "name": "stdout",
     "output_type": "stream",
     "text": [
      "Is duration numeric? True\n",
      "duration\n",
      "2–4 min     81\n",
      "4–6 min     18\n",
      "<2 min       1\n",
      "6–10 min     0\n",
      ">10 min      0\n",
      "Name: count, dtype: int64\n"
     ]
    }
   ],
   "source": [
    "import numpy as np\n",
    "\n",
    "# If duration looks non-numeric, just inspect values here; we’ll coerce in Step 3.\n",
    "non_numeric = df['duration'].dtype not in [int, float, 'int64', 'float64']\n",
    "print(\"Is duration numeric?\", not non_numeric)\n",
    "\n",
    "# Temporary safe conversion (no overwrite) just for exploration\n",
    "duration_temp = pd.to_numeric(df['duration'], errors='coerce')\n",
    "duration_min_temp = duration_temp / 60\n",
    "\n",
    "# Simple bucket preview\n",
    "bins = [-0.001, 2, 4, 6, 10, np.inf]\n",
    "labels = ['<2 min','2–4 min','4–6 min','6–10 min','>10 min']\n",
    "bucket_preview = pd.cut(duration_min_temp, bins=bins, labels=labels)\n",
    "print(bucket_preview.value_counts(dropna=False))\n"
   ]
  },
  {
   "cell_type": "code",
   "execution_count": 8,
   "id": "cd4313af-bde0-414e-857d-b7ac98f98850",
   "metadata": {},
   "outputs": [
    {
     "name": "stdout",
     "output_type": "stream",
     "text": [
      "Rows with any tags: 85 out of 100\n",
      "Estimated average tags per video: 1.0\n"
     ]
    }
   ],
   "source": [
    "# How many rows have tags?\n",
    "has_tags = df['tags'].notna() & (df['tags'].str.strip() != '')\n",
    "print(\"Rows with any tags:\", has_tags.sum(), \"out of\", len(df))\n",
    "\n",
    "# Average number of tags (rough estimate: split by '|' if that’s the delimiter)\n",
    "avg_tag_count_est = (\n",
    "    df.loc[has_tags, 'tags']\n",
    "      .apply(lambda s: len([t for t in s.split('|') if t.strip()!='']))\n",
    "      .mean()\n",
    ")\n",
    "print(\"Estimated average tags per video:\", round(avg_tag_count_est, 2))\n"
   ]
  },
  {
   "cell_type": "code",
   "execution_count": 9,
   "id": "e07ed2b6-858b-455e-920f-55b24b9c6cee",
   "metadata": {},
   "outputs": [
    {
     "name": "stdout",
     "output_type": "stream",
     "text": [
      "Saved ../data/_explore_profile_summary.csv\n"
     ]
    }
   ],
   "source": [
    "profile = {\n",
    "    \"rows\": [len(df)],\n",
    "    \"unique_titles\": [df['title'].nunique()],\n",
    "    \"unique_channels\": [df['channel'].nunique()],\n",
    "    \"avg_views\": [round(df['view_count'].mean(), 2)],\n",
    "    \"max_views\": [int(df['view_count'].max())],\n",
    "    \"missing_view_count_%\": [round(df['view_count'].isna().mean()*100, 2)],\n",
    "    \"missing_duration_%\": [round(df['duration'].isna().mean()*100, 2)],\n",
    "    \"missing_channel_followers_%\": [round(df['channel_follower_count'].isna().mean()*100, 2)],\n",
    "}\n",
    "pd.DataFrame(profile).to_csv('../data/_explore_profile_summary.csv', index=False)\n",
    "print(\"Saved ../data/_explore_profile_summary.csv\")\n"
   ]
  },
  {
   "cell_type": "code",
   "execution_count": null,
   "id": "608e5703-ffc6-4b58-a65f-eb34b7353074",
   "metadata": {},
   "outputs": [],
   "source": []
  }
 ],
 "metadata": {
  "kernelspec": {
   "display_name": "Python [conda env:base] *",
   "language": "python",
   "name": "conda-base-py"
  },
  "language_info": {
   "codemirror_mode": {
    "name": "ipython",
    "version": 3
   },
   "file_extension": ".py",
   "mimetype": "text/x-python",
   "name": "python",
   "nbconvert_exporter": "python",
   "pygments_lexer": "ipython3",
   "version": "3.13.5"
  }
 },
 "nbformat": 4,
 "nbformat_minor": 5
}
